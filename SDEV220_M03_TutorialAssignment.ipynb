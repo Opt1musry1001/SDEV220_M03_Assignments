{
 "cells": [
  {
   "cell_type": "code",
   "execution_count": 1,
   "metadata": {},
   "outputs": [],
   "source": [
    "class Solution:\n",
    "    def sort012(self,arr,n):\n",
    "        arr.sort()"
   ]
  },
  {
   "cell_type": "markdown",
   "metadata": {},
   "source": [
    "Part 1: Sort an Array of 0s, 1s, and 2s - This is my code for the sorting function."
   ]
  },
  {
   "cell_type": "code",
   "execution_count": 1,
   "metadata": {},
   "outputs": [],
   "source": [
    "# Definition of function that will do recursive binary search.\n",
    "def binarySearchHelper(arr, left, right, k):\n",
    "        # Check to make sure k is in the list.\n",
    "        if left <= right:\n",
    "            # Find the midpoint of the list.\n",
    "            mid = left + ((right - left) // 2)\n",
    "            # Evaluate if k is at the midpoint.\n",
    "            if arr[mid] == k:\n",
    "                return mid\n",
    "            # Evaluate if k is left of the midpoint.\n",
    "            elif arr[mid] > k:\n",
    "                return binarySearchHelper(arr, left, mid - 1, k)\n",
    "            # If this activates, k must be right of the midpoint.\n",
    "            else:\n",
    "                return binarySearchHelper(arr, mid + 1, right, k)\n",
    "        # This statement will activate if k is not in the list.\n",
    "        else:\n",
    "            return -1\n",
    "\n",
    "# Class definition.\n",
    "class Solution:\n",
    "    # Definition of given function to call recursive search function.\n",
    "    def binarysearch(self, arr, n, k):\n",
    "        # Define the initial boundaries of the list.\n",
    "        right = n - 1\n",
    "        left = 0\n",
    "        # Call the recursive binary search function.\n",
    "        return binarySearchHelper(arr, left, right, k)"
   ]
  },
  {
   "cell_type": "markdown",
   "metadata": {},
   "source": [
    "Part 2: Binary Search - This is my code for the binarysearch() method of the class Solution(), along with the function I created called binarySearchHelper(). To run, just paste the entire code over the template code that is already written at the beginning of the problem."
   ]
  }
 ],
 "metadata": {
  "kernelspec": {
   "display_name": "Python 3",
   "language": "python",
   "name": "python3"
  },
  "language_info": {
   "codemirror_mode": {
    "name": "ipython",
    "version": 3
   },
   "file_extension": ".py",
   "mimetype": "text/x-python",
   "name": "python",
   "nbconvert_exporter": "python",
   "pygments_lexer": "ipython3",
   "version": "3.10.0"
  },
  "orig_nbformat": 4
 },
 "nbformat": 4,
 "nbformat_minor": 2
}
